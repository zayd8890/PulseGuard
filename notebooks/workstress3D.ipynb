{
 "cells": [
  {
   "cell_type": "code",
   "execution_count": 1,
   "id": "57389927",
   "metadata": {},
   "outputs": [],
   "source": [
    "from pyspark.sql import SparkSession"
   ]
  },
  {
   "cell_type": "code",
   "execution_count": 2,
   "id": "3d7a07a3",
   "metadata": {},
   "outputs": [],
   "source": [
    "spark = SparkSession.builder \\\n",
    "    .appName(\"PulseGuard\") \\\n",
    "    .master(\"local[*]\") \\\n",
    "    .config(\"spark.ui.port\", \"4040\") \\\n",
    "    .getOrCreate()"
   ]
  },
  {
   "cell_type": "code",
   "execution_count": 10,
   "id": "1863ae7b",
   "metadata": {},
   "outputs": [
    {
     "name": "stdout",
     "output_type": "stream",
     "text": [
      "+-------+----+-------+-----+---+---+---+-------+\n",
      "|Subject| eda|    bvp| temp|  x|  y|  z|emotion|\n",
      "+-------+----+-------+-----+---+---+---+-------+\n",
      "|      1| 0.0|  -0.03|31.63|-13|-18| 62|      0|\n",
      "|      1|0.04|   5.06|31.63|-15|-18| 62|      0|\n",
      "|      1|0.08|  17.91|31.63|-14|-17| 62|      0|\n",
      "|      1|0.08|  79.34|31.63|-16|-17| 60|      0|\n",
      "|      1|0.08| 228.25|31.63|  3|-12| 63|      0|\n",
      "|      1|0.08|-486.47|31.63|  9| -3| 72|      0|\n",
      "|      1|0.08|  -5.02|31.63| 13| -2| 69|      0|\n",
      "|      1|0.09| 160.09|31.63|  4| -8| 66|      0|\n",
      "|      1|0.09|   63.4|31.61|  1| -9| 65|      0|\n",
      "|      1|0.09|   35.3|31.61|  3| -9| 65|      0|\n",
      "|      1|0.08| -22.52|31.61|  1|-10| 64|      0|\n",
      "|      1|0.09|  10.78|31.61|  0|-10| 64|      0|\n",
      "|      1|0.08|  79.85|31.59| -1|-10| 64|      0|\n",
      "|      1|0.09| 157.88|31.59| -1|-10| 64|      0|\n",
      "|      1|0.09|  61.42|31.59|  0|-10| 64|      0|\n",
      "|      1|0.08|   3.83|31.59| -1|-10| 65|      0|\n",
      "|      1|0.09|  -3.45|31.57|  4|-11| 63|      0|\n",
      "|      1|0.08|  -7.97|31.57|  0|-11| 64|      0|\n",
      "|      1|0.09| -12.42|31.57| -1|-11| 64|      0|\n",
      "|      1|0.09| -27.72|31.57| -1|-11| 64|      0|\n",
      "+-------+----+-------+-----+---+---+---+-------+\n",
      "only showing top 20 rows\n",
      "\n"
     ]
    }
   ],
   "source": [
    "df = spark.read.csv(r\"E:\\CNR_2025\\data\\external\\WorkStress3D\\PhysiologicalSignals\\physiological_signals_15sn.csv\", header=True, inferSchema=True)\n",
    "df.show()"
   ]
  },
  {
   "cell_type": "code",
   "execution_count": 11,
   "id": "e753cbf1",
   "metadata": {},
   "outputs": [
    {
     "name": "stdout",
     "output_type": "stream",
     "text": [
      "+-------+-----+\n",
      "|emotion|count|\n",
      "+-------+-----+\n",
      "|      1|13272|\n",
      "|      2|  224|\n",
      "|      0|25704|\n",
      "+-------+-----+\n",
      "\n"
     ]
    }
   ],
   "source": [
    "class_count = df.groupBy('emotion').count()\n",
    "class_count.show()"
   ]
  }
 ],
 "metadata": {
  "kernelspec": {
   "display_name": ".venv",
   "language": "python",
   "name": "python3"
  },
  "language_info": {
   "codemirror_mode": {
    "name": "ipython",
    "version": 3
   },
   "file_extension": ".py",
   "mimetype": "text/x-python",
   "name": "python",
   "nbconvert_exporter": "python",
   "pygments_lexer": "ipython3",
   "version": "3.11.6"
  }
 },
 "nbformat": 4,
 "nbformat_minor": 5
}
