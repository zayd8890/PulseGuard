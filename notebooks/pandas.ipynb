{
 "cells": [
  {
   "cell_type": "code",
   "execution_count": 2,
   "id": "d0e8f77f",
   "metadata": {},
   "outputs": [],
   "source": [
    "import pandas as pd \n",
    "import numpy as np\n",
    "from sklearn.preprocessing import LabelEncoder\n",
    "from sklearn.model_selection import train_test_split\n",
    "from sklearn.ensemble import RandomForestClassifier\n",
    "from sklearn.utils.class_weight import compute_class_weight\n",
    "from sklearn.metrics import classification_report, confusion_matrix\n",
    "import mlflow\n",
    "import mlflow.sklearn"
   ]
  },
  {
   "cell_type": "code",
   "execution_count": 11,
   "id": "ec0fc65d",
   "metadata": {},
   "outputs": [
    {
     "name": "stdout",
     "output_type": "stream",
     "text": [
      "00:58:50|Starting epoch 2/10...\n"
     ]
    }
   ],
   "source": [
    "from datetime import datetime\n",
    "epoch = 1\n",
    "num_epochs= 10\n",
    "print(f'{datetime.now().strftime(\"%H:%M:%S\")}|Starting epoch {epoch+1}/{num_epochs}...')\n"
   ]
  },
  {
   "cell_type": "code",
   "execution_count": 3,
   "id": "88eae97c",
   "metadata": {},
   "outputs": [
    {
     "data": {
      "text/html": [
       "<div>\n",
       "<style scoped>\n",
       "    .dataframe tbody tr th:only-of-type {\n",
       "        vertical-align: middle;\n",
       "    }\n",
       "\n",
       "    .dataframe tbody tr th {\n",
       "        vertical-align: top;\n",
       "    }\n",
       "\n",
       "    .dataframe thead th {\n",
       "        text-align: right;\n",
       "    }\n",
       "</style>\n",
       "<table border=\"1\" class=\"dataframe\">\n",
       "  <thead>\n",
       "    <tr style=\"text-align: right;\">\n",
       "      <th></th>\n",
       "      <th>PPG_F</th>\n",
       "      <th>ABP_F</th>\n",
       "      <th>Age</th>\n",
       "      <th>Gender</th>\n",
       "      <th>Height</th>\n",
       "      <th>Weight</th>\n",
       "      <th>BMI</th>\n",
       "      <th>T</th>\n",
       "      <th>SegSBP</th>\n",
       "      <th>SegDBP</th>\n",
       "      <th>Label</th>\n",
       "    </tr>\n",
       "  </thead>\n",
       "  <tbody>\n",
       "    <tr>\n",
       "      <th>0</th>\n",
       "      <td>0.016168</td>\n",
       "      <td>0.833281</td>\n",
       "      <td>48.0</td>\n",
       "      <td>77</td>\n",
       "      <td>177.4</td>\n",
       "      <td>65.00</td>\n",
       "      <td>20.7</td>\n",
       "      <td>540.008</td>\n",
       "      <td>117.771182</td>\n",
       "      <td>77.801254</td>\n",
       "      <td>Normal BP</td>\n",
       "    </tr>\n",
       "    <tr>\n",
       "      <th>1</th>\n",
       "      <td>0.013872</td>\n",
       "      <td>0.819892</td>\n",
       "      <td>48.0</td>\n",
       "      <td>77</td>\n",
       "      <td>177.4</td>\n",
       "      <td>65.00</td>\n",
       "      <td>20.7</td>\n",
       "      <td>540.016</td>\n",
       "      <td>115.179517</td>\n",
       "      <td>70.234718</td>\n",
       "      <td>Normal BP</td>\n",
       "    </tr>\n",
       "    <tr>\n",
       "      <th>2</th>\n",
       "      <td>0.011973</td>\n",
       "      <td>0.805373</td>\n",
       "      <td>48.0</td>\n",
       "      <td>77</td>\n",
       "      <td>177.4</td>\n",
       "      <td>65.00</td>\n",
       "      <td>20.7</td>\n",
       "      <td>540.024</td>\n",
       "      <td>116.158356</td>\n",
       "      <td>71.168408</td>\n",
       "      <td>Normal BP</td>\n",
       "    </tr>\n",
       "    <tr>\n",
       "      <th>3</th>\n",
       "      <td>0.010471</td>\n",
       "      <td>0.789024</td>\n",
       "      <td>48.0</td>\n",
       "      <td>77</td>\n",
       "      <td>177.4</td>\n",
       "      <td>65.00</td>\n",
       "      <td>20.7</td>\n",
       "      <td>540.032</td>\n",
       "      <td>116.990362</td>\n",
       "      <td>70.618718</td>\n",
       "      <td>Normal BP</td>\n",
       "    </tr>\n",
       "    <tr>\n",
       "      <th>4</th>\n",
       "      <td>0.009380</td>\n",
       "      <td>0.770268</td>\n",
       "      <td>48.0</td>\n",
       "      <td>77</td>\n",
       "      <td>177.4</td>\n",
       "      <td>65.00</td>\n",
       "      <td>20.7</td>\n",
       "      <td>540.040</td>\n",
       "      <td>116.774254</td>\n",
       "      <td>70.640372</td>\n",
       "      <td>Normal BP</td>\n",
       "    </tr>\n",
       "    <tr>\n",
       "      <th>...</th>\n",
       "      <td>...</td>\n",
       "      <td>...</td>\n",
       "      <td>...</td>\n",
       "      <td>...</td>\n",
       "      <td>...</td>\n",
       "      <td>...</td>\n",
       "      <td>...</td>\n",
       "      <td>...</td>\n",
       "      <td>...</td>\n",
       "      <td>...</td>\n",
       "      <td>...</td>\n",
       "    </tr>\n",
       "    <tr>\n",
       "      <th>15519995</th>\n",
       "      <td>0.536085</td>\n",
       "      <td>0.196341</td>\n",
       "      <td>61.0</td>\n",
       "      <td>77</td>\n",
       "      <td>174.5</td>\n",
       "      <td>80.95</td>\n",
       "      <td>26.6</td>\n",
       "      <td>1079.968</td>\n",
       "      <td>91.794847</td>\n",
       "      <td>61.343359</td>\n",
       "      <td>Normal BP</td>\n",
       "    </tr>\n",
       "    <tr>\n",
       "      <th>15519996</th>\n",
       "      <td>0.589613</td>\n",
       "      <td>0.193312</td>\n",
       "      <td>61.0</td>\n",
       "      <td>77</td>\n",
       "      <td>174.5</td>\n",
       "      <td>80.95</td>\n",
       "      <td>26.6</td>\n",
       "      <td>1079.976</td>\n",
       "      <td>91.794847</td>\n",
       "      <td>61.343359</td>\n",
       "      <td>Normal BP</td>\n",
       "    </tr>\n",
       "    <tr>\n",
       "      <th>15519997</th>\n",
       "      <td>0.642340</td>\n",
       "      <td>0.190619</td>\n",
       "      <td>61.0</td>\n",
       "      <td>77</td>\n",
       "      <td>174.5</td>\n",
       "      <td>80.95</td>\n",
       "      <td>26.6</td>\n",
       "      <td>1079.984</td>\n",
       "      <td>91.794847</td>\n",
       "      <td>61.343359</td>\n",
       "      <td>Normal BP</td>\n",
       "    </tr>\n",
       "    <tr>\n",
       "      <th>15519998</th>\n",
       "      <td>0.692709</td>\n",
       "      <td>0.187881</td>\n",
       "      <td>61.0</td>\n",
       "      <td>77</td>\n",
       "      <td>174.5</td>\n",
       "      <td>80.95</td>\n",
       "      <td>26.6</td>\n",
       "      <td>1079.992</td>\n",
       "      <td>91.794847</td>\n",
       "      <td>61.343359</td>\n",
       "      <td>Normal BP</td>\n",
       "    </tr>\n",
       "    <tr>\n",
       "      <th>15519999</th>\n",
       "      <td>0.739163</td>\n",
       "      <td>0.184531</td>\n",
       "      <td>61.0</td>\n",
       "      <td>77</td>\n",
       "      <td>174.5</td>\n",
       "      <td>80.95</td>\n",
       "      <td>26.6</td>\n",
       "      <td>1080.000</td>\n",
       "      <td>91.794847</td>\n",
       "      <td>61.343359</td>\n",
       "      <td>Normal BP</td>\n",
       "    </tr>\n",
       "  </tbody>\n",
       "</table>\n",
       "<p>15520000 rows × 11 columns</p>\n",
       "</div>"
      ],
      "text/plain": [
       "             PPG_F     ABP_F   Age  Gender  Height  Weight   BMI         T  \\\n",
       "0         0.016168  0.833281  48.0      77   177.4   65.00  20.7   540.008   \n",
       "1         0.013872  0.819892  48.0      77   177.4   65.00  20.7   540.016   \n",
       "2         0.011973  0.805373  48.0      77   177.4   65.00  20.7   540.024   \n",
       "3         0.010471  0.789024  48.0      77   177.4   65.00  20.7   540.032   \n",
       "4         0.009380  0.770268  48.0      77   177.4   65.00  20.7   540.040   \n",
       "...            ...       ...   ...     ...     ...     ...   ...       ...   \n",
       "15519995  0.536085  0.196341  61.0      77   174.5   80.95  26.6  1079.968   \n",
       "15519996  0.589613  0.193312  61.0      77   174.5   80.95  26.6  1079.976   \n",
       "15519997  0.642340  0.190619  61.0      77   174.5   80.95  26.6  1079.984   \n",
       "15519998  0.692709  0.187881  61.0      77   174.5   80.95  26.6  1079.992   \n",
       "15519999  0.739163  0.184531  61.0      77   174.5   80.95  26.6  1080.000   \n",
       "\n",
       "              SegSBP     SegDBP      Label  \n",
       "0         117.771182  77.801254  Normal BP  \n",
       "1         115.179517  70.234718  Normal BP  \n",
       "2         116.158356  71.168408  Normal BP  \n",
       "3         116.990362  70.618718  Normal BP  \n",
       "4         116.774254  70.640372  Normal BP  \n",
       "...              ...        ...        ...  \n",
       "15519995   91.794847  61.343359  Normal BP  \n",
       "15519996   91.794847  61.343359  Normal BP  \n",
       "15519997   91.794847  61.343359  Normal BP  \n",
       "15519998   91.794847  61.343359  Normal BP  \n",
       "15519999   91.794847  61.343359  Normal BP  \n",
       "\n",
       "[15520000 rows x 11 columns]"
      ]
     },
     "execution_count": 3,
     "metadata": {},
     "output_type": "execute_result"
    }
   ],
   "source": [
    "df = pd.read_parquet('E:/CNR_2025/data/processed/PulseDB/union_PulseDB_Vital-1.parquet')\n",
    "df"
   ]
  },
  {
   "cell_type": "code",
   "execution_count": 6,
   "id": "f0cd86e2",
   "metadata": {},
   "outputs": [
    {
     "name": "stdout",
     "output_type": "stream",
     "text": [
      "Label\n",
      "Normal BP               12542245\n",
      "Elevated BP              2111521\n",
      "Hypertension Stage 1      865994\n",
      "Hypertension Stage 2         220\n",
      "Hypertensive Crisis           20\n",
      "Name: count, dtype: int64\n"
     ]
    }
   ],
   "source": [
    "\n",
    "print(df['Label'].value_counts())"
   ]
  },
  {
   "cell_type": "code",
   "execution_count": 7,
   "id": "17ffd57f",
   "metadata": {},
   "outputs": [],
   "source": [
    "features = [\"PPG_F\", \"ABP_F\", \"Age\", \"Gender\", \"Height\", \"Weight\", \"BMI\", \"T\"]\n",
    "X = df[features]\n",
    "y = df[\"Label\"]\n"
   ]
  },
  {
   "cell_type": "code",
   "execution_count": null,
   "id": "c5cc5be9",
   "metadata": {},
   "outputs": [],
   "source": [
    "le = LabelEncoder()\n",
    "y_encoded = le.fit_transform(y)"
   ]
  },
  {
   "cell_type": "code",
   "execution_count": 10,
   "id": "fcbdffb9",
   "metadata": {},
   "outputs": [],
   "source": [
    "X_train, X_test, y_train, y_test = train_test_split(X, y_encoded, test_size=0.2, random_state=42, stratify=y_encoded)"
   ]
  },
  {
   "cell_type": "code",
   "execution_count": 11,
   "id": "550e2299",
   "metadata": {},
   "outputs": [],
   "source": [
    "classes = np.unique(y_encoded)\n",
    "weights = compute_class_weight(class_weight='balanced', classes=classes, y=y_encoded)\n",
    "class_weights = {cls: weight for cls, weight in zip(classes, weights)}\n"
   ]
  },
  {
   "cell_type": "code",
   "execution_count": 14,
   "id": "95c4a3de",
   "metadata": {},
   "outputs": [
    {
     "name": "stderr",
     "output_type": "stream",
     "text": [
      "2025/04/19 21:25:18 WARNING mlflow.models.model: Model logged without a signature and input example. Please set `input_example` parameter when logging the model to auto infer the model signature.\n"
     ]
    }
   ],
   "source": [
    "mlflow.set_experiment(\"bp_classification\")\n",
    "with mlflow.start_run():\n",
    "    clf = RandomForestClassifier(n_estimators=100, class_weight=class_weights, random_state=42)\n",
    "    clf.fit(X_train, y_train)\n",
    "\n",
    "    y_pred = clf.predict(X_test)\n",
    "\n",
    "    report = classification_report(y_test, y_pred, output_dict=True)\n",
    "    cm = confusion_matrix(y_test, y_pred)\n",
    "\n",
    "    # Log model\n",
    "    mlflow.sklearn.log_model(clf, \"model\")\n",
    "\n",
    "    # Log parameters and metrics\n",
    "    mlflow.log_params({\"n_estimators\": 100, \"random_state\": 42})\n",
    "    for label, scores in report.items():\n",
    "        if isinstance(scores, dict):\n",
    "            for metric, score in scores.items():\n",
    "                mlflow.log_metric(f\"{label}_{metric}\", score)\n",
    "\n",
    "    # Save confusion matrix\n",
    "    np.save(\"confusion_matrix.npy\", cm)\n",
    "    mlflow.log_artifact(\"confusion_matrix.npy\")"
   ]
  },
  {
   "cell_type": "code",
   "execution_count": 17,
   "id": "b14cd69c",
   "metadata": {},
   "outputs": [],
   "source": [
    "df8 = pd.read_parquet('E:/CNR_2025/data/processed/PulseDB/union_PulseDB_Vital-2.parquet')\n",
    "\n",
    "features = [\"PPG_F\", \"ABP_F\", \"Age\", \"Gender\", \"Height\", \"Weight\", \"BMI\", \"T\"]\n",
    "X8 = df8[features]\n",
    "y8 = df8[\"Label\"]\n",
    "le = LabelEncoder()\n",
    "y8 = le.fit_transform(y8)"
   ]
  },
  {
   "cell_type": "code",
   "execution_count": 18,
   "id": "ba4cba01",
   "metadata": {},
   "outputs": [
    {
     "name": "stderr",
     "output_type": "stream",
     "text": [
      "e:\\CNR_2025\\.venv\\Lib\\site-packages\\sklearn\\metrics\\_classification.py:1565: UndefinedMetricWarning: Precision is ill-defined and being set to 0.0 in labels with no predicted samples. Use `zero_division` parameter to control this behavior.\n",
      "  _warn_prf(average, modifier, f\"{metric.capitalize()} is\", len(result))\n",
      "e:\\CNR_2025\\.venv\\Lib\\site-packages\\sklearn\\metrics\\_classification.py:1565: UndefinedMetricWarning: Precision is ill-defined and being set to 0.0 in labels with no predicted samples. Use `zero_division` parameter to control this behavior.\n",
      "  _warn_prf(average, modifier, f\"{metric.capitalize()} is\", len(result))\n"
     ]
    },
    {
     "name": "stdout",
     "output_type": "stream",
     "text": [
      "                      precision    recall  f1-score   support\n",
      "\n",
      "         Elevated BP       0.00      0.00      0.00   3297437\n",
      "Hypertension Stage 1       0.72      0.00      0.00   1038217\n",
      "Hypertension Stage 2       0.00      0.00      0.00   3948297\n",
      " Hypertensive Crisis       0.00      0.00      0.00        52\n",
      "           Normal BP       0.51      0.93      0.66   9424747\n",
      "\n",
      "            accuracy                           0.49  17708750\n",
      "           macro avg       0.25      0.19      0.13  17708750\n",
      "        weighted avg       0.32      0.49      0.35  17708750\n",
      "\n"
     ]
    },
    {
     "name": "stderr",
     "output_type": "stream",
     "text": [
      "e:\\CNR_2025\\.venv\\Lib\\site-packages\\sklearn\\metrics\\_classification.py:1565: UndefinedMetricWarning: Precision is ill-defined and being set to 0.0 in labels with no predicted samples. Use `zero_division` parameter to control this behavior.\n",
      "  _warn_prf(average, modifier, f\"{metric.capitalize()} is\", len(result))\n"
     ]
    }
   ],
   "source": [
    "from sklearn.metrics import classification_report\n",
    "\n",
    "y_pred = clf.predict(X8)\n",
    "print(classification_report(y8, y_pred, target_names=le.classes_))\n"
   ]
  },
  {
   "cell_type": "code",
   "execution_count": null,
   "id": "b515e84a",
   "metadata": {},
   "outputs": [
    {
     "name": "stderr",
     "output_type": "stream",
     "text": [
      "'mlflow' is not recognized as an internal or external command,\n",
      "operable program or batch file.\n"
     ]
    },
    {
     "ename": "",
     "evalue": "",
     "output_type": "error",
     "traceback": [
      "\u001b[1;31mThe Kernel crashed while executing code in the current cell or a previous cell. \n",
      "\u001b[1;31mPlease review the code in the cell(s) to identify a possible cause of the failure. \n",
      "\u001b[1;31mClick <a href='https://aka.ms/vscodeJupyterKernelCrash'>here</a> for more info. \n",
      "\u001b[1;31mView Jupyter <a href='command:jupyter.viewOutput'>log</a> for further details."
     ]
    }
   ],
   "source": [
    "!mlflow ui"
   ]
  },
  {
   "cell_type": "code",
   "execution_count": 4,
   "id": "a109bb77",
   "metadata": {},
   "outputs": [
    {
     "name": "stderr",
     "output_type": "stream",
     "text": [
      "C:\\Users\\warag\\AppData\\Local\\Temp\\ipykernel_26332\\3275753600.py:74: FutureWarning: You are using `torch.load` with `weights_only=False` (the current default value), which uses the default pickle module implicitly. It is possible to construct malicious pickle data which will execute arbitrary code during unpickling (See https://github.com/pytorch/pytorch/blob/main/SECURITY.md#untrusted-models for more details). In a future release, the default value for `weights_only` will be flipped to `True`. This limits the functions that could be executed during unpickling. Arbitrary objects will no longer be allowed to be loaded via this mode unless they are explicitly allowlisted by the user via `torch.serialization.add_safe_globals`. We recommend you start setting `weights_only=True` for any use case where you don't have full control of the loaded file. Please open an issue on GitHub for any issues related to this experimental feature.\n",
      "  state_dict = torch.load(r'E:\\CNR_2025\\models\\model-v4\\best_model_epoch_10.pth')\n"
     ]
    },
    {
     "name": "stdout",
     "output_type": "stream",
     "text": [
      "Accuracy: 0.4079\n",
      "F1 Score: 0.3462\n",
      "Precision: 0.4678\n",
      "Recall: 0.4079\n"
     ]
    }
   ],
   "source": [
    "import torch\n",
    "import pandas as pd\n",
    "import numpy as np\n",
    "from sklearn.metrics import accuracy_score, f1_score, precision_score, recall_score\n",
    "from sklearn.preprocessing import LabelEncoder\n",
    "from torch.utils.data import DataLoader, TensorDataset\n",
    "from torch import nn\n",
    "\n",
    "# Define the model architecture (must match the one used for training)\n",
    "class Model(nn.Module):\n",
    "    def __init__(self, input_dim, activation, num_class):\n",
    "        super(Model, self).__init__()\n",
    "        \n",
    "        # Define layers\n",
    "        self.layer1 = nn.Linear(input_dim, 1024)\n",
    "        self.activation = activation\n",
    "        self.dropout1 = nn.Dropout(0.5)\n",
    "\n",
    "        self.layer2 = nn.Linear(1024, 512)\n",
    "        self.dropout2 = nn.Dropout(0.5)\n",
    "\n",
    "        self.layer3 = nn.Linear(512, 64)\n",
    "        self.dropout3 = nn.Dropout(0.25)\n",
    "\n",
    "        self.layer4 = nn.Linear(64, num_class)\n",
    "\n",
    "    def forward(self, x):\n",
    "        # Define forward pass\n",
    "        x = self.dropout1(self.activation(self.layer1(x)))\n",
    "        x = self.dropout2(self.activation(self.layer2(x)))\n",
    "        x = self.dropout3(self.activation(self.layer3(x)))\n",
    "        x = self.layer4(x)\n",
    "        return x\n",
    "    # Define activation function\n",
    "def get_activation_function(activation_name):\n",
    "    if activation_name == 'relu':\n",
    "        return nn.ReLU()\n",
    "    elif activation_name == 'sigmoid':\n",
    "        return nn.Sigmoid()\n",
    "    elif activation_name == 'tanh':\n",
    "        return nn.Tanh()\n",
    "    else:\n",
    "        raise ValueError(f\"Activation function '{activation_name}' is not supported.\")\n",
    "\n",
    "\n",
    "\n",
    "# Define your features (use the same ones as in training)\n",
    "features = [\"PPG_F\", \"ABP_F\", \"Age\", \"Gender\", \"Height\", \"Weight\",\"T\"]\n",
    "\n",
    "# Prepare the DataFrame (replace with your actual DataFrame loading)\n",
    "df = pd.read_parquet(\"E:/CNR_2025/data/processed/PulseDB/union_PulseDB_Vital-11.parquet\")\n",
    "\n",
    "# If there are any missing values in the features, drop them\n",
    "df_clean = df.dropna(subset=features + ['Label'])\n",
    "\n",
    "# Normalize the data (same normalization steps as during training)\n",
    "# For example, using MinMaxScaler or StandardScaler, based on your preprocessing\n",
    "from sklearn.preprocessing import StandardScaler\n",
    "scaler = StandardScaler()\n",
    "df_clean[features] = scaler.fit_transform(df_clean[features])\n",
    "\n",
    "# Encode labels (if necessary)\n",
    "le = LabelEncoder()\n",
    "df_clean['label'] = le.fit_transform(df_clean['Label'])\n",
    "\n",
    "# Split into X (features) and y (labels)\n",
    "X = df_clean[features].values.astype(np.float32)\n",
    "y = df_clean['label'].values\n",
    "\n",
    "# Load the model architecture\n",
    "model = Model(input_dim=X.shape[1],activation = get_activation_function('relu'), num_class=len(np.unique(y)))\n",
    "\n",
    "# Load the state dict into the model\n",
    "state_dict = torch.load(r'E:\\CNR_2025\\models\\model-v4\\best_model_epoch_10.pth')\n",
    "model.load_state_dict(state_dict)\n",
    "model.to('cuda' if torch.cuda.is_available() else 'cpu')\n",
    "model.eval()  # Set model to evaluation mode\n",
    "\n",
    "# Convert to tensors\n",
    "X_tensor = torch.tensor(X)\n",
    "y_tensor = torch.tensor(y)\n",
    "\n",
    "# Create a DataLoader\n",
    "dataset = TensorDataset(X_tensor, y_tensor)\n",
    "dataloader = DataLoader(dataset, batch_size=32, shuffle=False)\n",
    "\n",
    "# Predict and calculate metrics\n",
    "y_true = []\n",
    "y_pred = []\n",
    "\n",
    "with torch.no_grad():  # No need to calculate gradients during inference\n",
    "    for inputs, labels in dataloader:\n",
    "        inputs = inputs.to('cuda' if torch.cuda.is_available() else 'cpu')\n",
    "        labels = labels.to('cuda' if torch.cuda.is_available() else 'cpu')\n",
    "\n",
    "        outputs = model(inputs)  # Get model outputs\n",
    "        _, predicted = torch.max(outputs, 1)  # Get the predicted class\n",
    "\n",
    "        y_true.extend(labels.cpu().numpy())\n",
    "        y_pred.extend(predicted.cpu().numpy())\n",
    "\n",
    "# Calculate metrics\n",
    "accuracy = accuracy_score(y_true, y_pred)\n",
    "f1 = f1_score(y_true, y_pred, average='weighted', zero_division=1)\n",
    "precision = precision_score(y_true, y_pred, average='weighted', zero_division=1)\n",
    "recall = recall_score(y_true, y_pred, average='weighted', zero_division=1)\n",
    "\n",
    "# Print the results\n",
    "print(f\"Accuracy: {accuracy:.4f}\")\n",
    "print(f\"F1 Score: {f1:.4f}\")\n",
    "print(f\"Precision: {precision:.4f}\")\n",
    "print(f\"Recall: {recall:.4f}\")\n"
   ]
  },
  {
   "cell_type": "code",
   "execution_count": null,
   "id": "0b73f183",
   "metadata": {},
   "outputs": [],
   "source": [
    "Accuracy: 0.6439\n",
    "F1 Score: 0.6286\n",
    "Precision: 0.6822\n",
    "Recall: 0.6439"
   ]
  },
  {
   "cell_type": "code",
   "execution_count": null,
   "id": "f9e38664",
   "metadata": {},
   "outputs": [],
   "source": [
    "Accuracy: 0.7157\n",
    "F1 Score: 0.6433\n",
    "Precision: 0.8483\n",
    "Recall: 0.7157"
   ]
  },
  {
   "cell_type": "code",
   "execution_count": null,
   "id": "e607376d",
   "metadata": {},
   "outputs": [],
   "source": [
    "Accuracy: 0.7297\n",
    "F1 Score: 0.6382\n",
    "Precision: 0.6029\n",
    "Recall: 0.7297"
   ]
  },
  {
   "cell_type": "code",
   "execution_count": null,
   "id": "592a42fe",
   "metadata": {},
   "outputs": [],
   "source": [
    "Accuracy: 0.6518\n",
    "F1 Score: 0.5999\n",
    "Precision: 0.6629\n",
    "Recall: 0.6518"
   ]
  }
 ],
 "metadata": {
  "kernelspec": {
   "display_name": "Python 3",
   "language": "python",
   "name": "python3"
  },
  "language_info": {
   "codemirror_mode": {
    "name": "ipython",
    "version": 3
   },
   "file_extension": ".py",
   "mimetype": "text/x-python",
   "name": "python",
   "nbconvert_exporter": "python",
   "pygments_lexer": "ipython3",
   "version": "3.11.6"
  }
 },
 "nbformat": 4,
 "nbformat_minor": 5
}
